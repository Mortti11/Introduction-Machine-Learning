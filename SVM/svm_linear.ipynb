{
 "cells": [
  {
   "cell_type": "code",
   "execution_count": 106,
   "metadata": {},
   "outputs": [],
   "source": [
    "import pandas as pd\n",
    "import numpy as np\n",
    "import seaborn as sns\n",
    "import matplotlib.pyplot as plt\n",
    "\n",
    "from sklearn.datasets import make_regression\n",
    "from sklearn.metrics import mean_squared_error, r2_score\n",
    "from sklearn import metrics\n",
    "from sklearn.model_selection import train_test_split\n",
    "from sklearn.pipeline import make_pipeline\n",
    "from sklearn.preprocessing import StandardScaler\n",
    "from sklearn.model_selection import GridSearchCV\n",
    "from sklearn.metrics import mean_absolute_error\n",
    "from sklearn.model_selection import RandomizedSearchCV\n",
    "from sklearn.preprocessing import PolynomialFeatures\n",
    "from sklearn import metrics, svm"
   ]
  },
  {
   "cell_type": "markdown",
   "metadata": {},
   "source": [
    "#### Trying scikit-learn's SVR-algorithm with Appliance energy consumption"
   ]
  },
  {
   "cell_type": "code",
   "execution_count": 77,
   "metadata": {},
   "outputs": [],
   "source": [
    "df = pd.read_csv('datasets/filtered_energydata.csv')"
   ]
  },
  {
   "cell_type": "code",
   "execution_count": 78,
   "metadata": {},
   "outputs": [
    {
     "data": {
      "text/html": [
       "<div>\n",
       "<style scoped>\n",
       "    .dataframe tbody tr th:only-of-type {\n",
       "        vertical-align: middle;\n",
       "    }\n",
       "\n",
       "    .dataframe tbody tr th {\n",
       "        vertical-align: top;\n",
       "    }\n",
       "\n",
       "    .dataframe thead th {\n",
       "        text-align: right;\n",
       "    }\n",
       "</style>\n",
       "<table border=\"1\" class=\"dataframe\">\n",
       "  <thead>\n",
       "    <tr style=\"text-align: right;\">\n",
       "      <th></th>\n",
       "      <th>Appliances</th>\n",
       "      <th>Press_mm_hg</th>\n",
       "      <th>RH_3</th>\n",
       "      <th>RH_8</th>\n",
       "      <th>RH_9</th>\n",
       "      <th>T3</th>\n",
       "      <th>T4</th>\n",
       "      <th>T8</th>\n",
       "      <th>T_out</th>\n",
       "      <th>Tdewpoint</th>\n",
       "      <th>hour</th>\n",
       "    </tr>\n",
       "  </thead>\n",
       "  <tbody>\n",
       "    <tr>\n",
       "      <th>0</th>\n",
       "      <td>60.0</td>\n",
       "      <td>735.933333</td>\n",
       "      <td>44.730000</td>\n",
       "      <td>48.900000</td>\n",
       "      <td>45.53</td>\n",
       "      <td>19.79</td>\n",
       "      <td>19.000000</td>\n",
       "      <td>18.2</td>\n",
       "      <td>6.600000</td>\n",
       "      <td>5.3</td>\n",
       "      <td>17</td>\n",
       "    </tr>\n",
       "    <tr>\n",
       "      <th>1</th>\n",
       "      <td>60.0</td>\n",
       "      <td>735.933333</td>\n",
       "      <td>44.790000</td>\n",
       "      <td>48.863333</td>\n",
       "      <td>45.56</td>\n",
       "      <td>19.79</td>\n",
       "      <td>19.000000</td>\n",
       "      <td>18.2</td>\n",
       "      <td>6.483333</td>\n",
       "      <td>5.2</td>\n",
       "      <td>17</td>\n",
       "    </tr>\n",
       "    <tr>\n",
       "      <th>2</th>\n",
       "      <td>50.0</td>\n",
       "      <td>735.933333</td>\n",
       "      <td>44.933333</td>\n",
       "      <td>48.730000</td>\n",
       "      <td>45.50</td>\n",
       "      <td>19.79</td>\n",
       "      <td>18.926667</td>\n",
       "      <td>18.2</td>\n",
       "      <td>6.366667</td>\n",
       "      <td>5.1</td>\n",
       "      <td>17</td>\n",
       "    </tr>\n",
       "    <tr>\n",
       "      <th>3</th>\n",
       "      <td>50.0</td>\n",
       "      <td>735.933333</td>\n",
       "      <td>45.000000</td>\n",
       "      <td>48.590000</td>\n",
       "      <td>45.40</td>\n",
       "      <td>19.79</td>\n",
       "      <td>18.890000</td>\n",
       "      <td>18.1</td>\n",
       "      <td>6.250000</td>\n",
       "      <td>5.0</td>\n",
       "      <td>17</td>\n",
       "    </tr>\n",
       "    <tr>\n",
       "      <th>4</th>\n",
       "      <td>60.0</td>\n",
       "      <td>735.933333</td>\n",
       "      <td>45.000000</td>\n",
       "      <td>48.590000</td>\n",
       "      <td>45.40</td>\n",
       "      <td>19.79</td>\n",
       "      <td>18.890000</td>\n",
       "      <td>18.1</td>\n",
       "      <td>6.133333</td>\n",
       "      <td>4.9</td>\n",
       "      <td>17</td>\n",
       "    </tr>\n",
       "  </tbody>\n",
       "</table>\n",
       "</div>"
      ],
      "text/plain": [
       "   Appliances  Press_mm_hg       RH_3       RH_8   RH_9     T3         T4  \\\n",
       "0        60.0   735.933333  44.730000  48.900000  45.53  19.79  19.000000   \n",
       "1        60.0   735.933333  44.790000  48.863333  45.56  19.79  19.000000   \n",
       "2        50.0   735.933333  44.933333  48.730000  45.50  19.79  18.926667   \n",
       "3        50.0   735.933333  45.000000  48.590000  45.40  19.79  18.890000   \n",
       "4        60.0   735.933333  45.000000  48.590000  45.40  19.79  18.890000   \n",
       "\n",
       "     T8     T_out  Tdewpoint  hour  \n",
       "0  18.2  6.600000        5.3    17  \n",
       "1  18.2  6.483333        5.2    17  \n",
       "2  18.2  6.366667        5.1    17  \n",
       "3  18.1  6.250000        5.0    17  \n",
       "4  18.1  6.133333        4.9    17  "
      ]
     },
     "execution_count": 78,
     "metadata": {},
     "output_type": "execute_result"
    }
   ],
   "source": [
    "df.head()"
   ]
  },
  {
   "cell_type": "code",
   "execution_count": 79,
   "metadata": {},
   "outputs": [],
   "source": [
    "X = df.drop(['Appliances'], axis=1)\n",
    "y = df['Appliances']"
   ]
  },
  {
   "cell_type": "code",
   "execution_count": 80,
   "metadata": {},
   "outputs": [],
   "source": [
    "X_train, X_test, y_train, y_test = train_test_split(X, y, test_size=0.2, random_state=0)"
   ]
  },
  {
   "cell_type": "code",
   "execution_count": 89,
   "metadata": {},
   "outputs": [],
   "source": [
    "param = {\n",
    "    'C': [0.1, 1, 10, 100],\n",
    "    'nu': [0.1, 0.3, 0.5],\n",
    "    'gamma': ['scale', 0.1, 0.01, 0.001],\n",
    "    'kernel': ['rbf'],\n",
    "}"
   ]
  },
  {
   "cell_type": "code",
   "execution_count": 98,
   "metadata": {},
   "outputs": [],
   "source": [
    "# Let's use polynomial features and grid search to find the best parameters.\n",
    "random_search = RandomizedSearchCV(svm.NuSVR(), param, cv=5, verbose=3, n_jobs=-1)\n",
    "model = make_pipeline(StandardScaler(), PolynomialFeatures(degree=2, include_bias=False), random_search)"
   ]
  },
  {
   "cell_type": "code",
   "execution_count": 100,
   "metadata": {},
   "outputs": [
    {
     "name": "stdout",
     "output_type": "stream",
     "text": [
      "Fitting 5 folds for each of 10 candidates, totalling 50 fits\n"
     ]
    }
   ],
   "source": [
    "predictions = model.fit(X_train, y_train).predict(X_test)"
   ]
  },
  {
   "cell_type": "code",
   "execution_count": 105,
   "metadata": {},
   "outputs": [
    {
     "name": "stdout",
     "output_type": "stream",
     "text": [
      "Mean Absolute Error (MAE): 18.71 Wh\n",
      "Mean Squared Error (MSE): 864.67 Wh²\n",
      "Root Mean Squared Error (RMSE): 29.41 Wh\n",
      "R² Score: 0.54\n"
     ]
    }
   ],
   "source": [
    "# Evaluating the model\n",
    "mae = mean_absolute_error(y_test, predictions)\n",
    "mse = mean_squared_error(y_test, predictions)\n",
    "rmse = np.sqrt(mse)\n",
    "r2 = r2_score(y_test, predictions)\n",
    "\n",
    "print(f\"Mean Absolute Error (MAE): {mae:.2f} Wh\")\n",
    "print(f\"Mean Squared Error (MSE): {mse:.2f} Wh²\")\n",
    "print(f\"Root Mean Squared Error (RMSE): {rmse:.2f} Wh\")\n",
    "print(f\"R² Score: {r2:.2f}\")"
   ]
  },
  {
   "cell_type": "markdown",
   "metadata": {},
   "source": [
    "## <span style=\"color: #20C997;\">Personal Analysis</span>\n",
    "VSR model works worse with this dataset than model and XGBoost model. But still better than the baseline model and the linear regression model.<br>\n",
    "I tried to manipulate the hyperparameters of the model, but the results are good, and then  I used the polynomial features to improve the model.<br>\n",
    "It helped a little bit, but the model still worse than the model and XGBoost model."
   ]
  }
 ],
 "metadata": {
  "kernelspec": {
   "display_name": ".venv",
   "language": "python",
   "name": "python3"
  },
  "language_info": {
   "codemirror_mode": {
    "name": "ipython",
    "version": 3
   },
   "file_extension": ".py",
   "mimetype": "text/x-python",
   "name": "python",
   "nbconvert_exporter": "python",
   "pygments_lexer": "ipython3",
   "version": "3.10.11"
  }
 },
 "nbformat": 4,
 "nbformat_minor": 2
}
