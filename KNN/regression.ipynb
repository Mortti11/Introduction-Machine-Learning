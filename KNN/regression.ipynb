{
 "cells": [
  {
   "cell_type": "code",
   "execution_count": 51,
   "metadata": {},
   "outputs": [],
   "source": [
    "import pandas as pd\n",
    "import numpy as np\n",
    "import matplotlib.pyplot as plt\n",
    "import seaborn as sns\n",
    "from sklearn.model_selection import train_test_split\n",
    "\n",
    "from sklearn.neighbors import KNeighborsRegressor\n",
    "from sklearn.preprocessing import MinMaxScaler, StandardScaler, RobustScaler, Normalizer\n",
    "from sklearn import metrics\n",
    "from sklearn.model_selection import GridSearchCV\n",
    "from sklearn.preprocessing import StandardScaler\n",
    "from sklearn.pipeline import Pipeline\n",
    "from sklearn.preprocessing import PolynomialFeatures\n",
    "from sklearn.metrics import r2_score, mean_absolute_error, mean_squared_error"
   ]
  },
  {
   "cell_type": "code",
   "execution_count": 13,
   "metadata": {},
   "outputs": [],
   "source": [
    "df = pd.read_csv('filtered_energydata.csv')"
   ]
  },
  {
   "cell_type": "code",
   "execution_count": 14,
   "metadata": {},
   "outputs": [
    {
     "data": {
      "text/html": [
       "<div>\n",
       "<style scoped>\n",
       "    .dataframe tbody tr th:only-of-type {\n",
       "        vertical-align: middle;\n",
       "    }\n",
       "\n",
       "    .dataframe tbody tr th {\n",
       "        vertical-align: top;\n",
       "    }\n",
       "\n",
       "    .dataframe thead th {\n",
       "        text-align: right;\n",
       "    }\n",
       "</style>\n",
       "<table border=\"1\" class=\"dataframe\">\n",
       "  <thead>\n",
       "    <tr style=\"text-align: right;\">\n",
       "      <th></th>\n",
       "      <th>Appliances</th>\n",
       "      <th>Press_mm_hg</th>\n",
       "      <th>RH_3</th>\n",
       "      <th>RH_8</th>\n",
       "      <th>RH_9</th>\n",
       "      <th>T3</th>\n",
       "      <th>T4</th>\n",
       "      <th>T8</th>\n",
       "      <th>T_out</th>\n",
       "      <th>Tdewpoint</th>\n",
       "      <th>hour</th>\n",
       "    </tr>\n",
       "  </thead>\n",
       "  <tbody>\n",
       "    <tr>\n",
       "      <th>0</th>\n",
       "      <td>60.0</td>\n",
       "      <td>735.933333</td>\n",
       "      <td>44.730000</td>\n",
       "      <td>48.900000</td>\n",
       "      <td>45.53</td>\n",
       "      <td>19.79</td>\n",
       "      <td>19.000000</td>\n",
       "      <td>18.2</td>\n",
       "      <td>6.600000</td>\n",
       "      <td>5.3</td>\n",
       "      <td>17</td>\n",
       "    </tr>\n",
       "    <tr>\n",
       "      <th>1</th>\n",
       "      <td>60.0</td>\n",
       "      <td>735.933333</td>\n",
       "      <td>44.790000</td>\n",
       "      <td>48.863333</td>\n",
       "      <td>45.56</td>\n",
       "      <td>19.79</td>\n",
       "      <td>19.000000</td>\n",
       "      <td>18.2</td>\n",
       "      <td>6.483333</td>\n",
       "      <td>5.2</td>\n",
       "      <td>17</td>\n",
       "    </tr>\n",
       "    <tr>\n",
       "      <th>2</th>\n",
       "      <td>50.0</td>\n",
       "      <td>735.933333</td>\n",
       "      <td>44.933333</td>\n",
       "      <td>48.730000</td>\n",
       "      <td>45.50</td>\n",
       "      <td>19.79</td>\n",
       "      <td>18.926667</td>\n",
       "      <td>18.2</td>\n",
       "      <td>6.366667</td>\n",
       "      <td>5.1</td>\n",
       "      <td>17</td>\n",
       "    </tr>\n",
       "    <tr>\n",
       "      <th>3</th>\n",
       "      <td>50.0</td>\n",
       "      <td>735.933333</td>\n",
       "      <td>45.000000</td>\n",
       "      <td>48.590000</td>\n",
       "      <td>45.40</td>\n",
       "      <td>19.79</td>\n",
       "      <td>18.890000</td>\n",
       "      <td>18.1</td>\n",
       "      <td>6.250000</td>\n",
       "      <td>5.0</td>\n",
       "      <td>17</td>\n",
       "    </tr>\n",
       "    <tr>\n",
       "      <th>4</th>\n",
       "      <td>60.0</td>\n",
       "      <td>735.933333</td>\n",
       "      <td>45.000000</td>\n",
       "      <td>48.590000</td>\n",
       "      <td>45.40</td>\n",
       "      <td>19.79</td>\n",
       "      <td>18.890000</td>\n",
       "      <td>18.1</td>\n",
       "      <td>6.133333</td>\n",
       "      <td>4.9</td>\n",
       "      <td>17</td>\n",
       "    </tr>\n",
       "  </tbody>\n",
       "</table>\n",
       "</div>"
      ],
      "text/plain": [
       "   Appliances  Press_mm_hg       RH_3       RH_8   RH_9     T3         T4  \\\n",
       "0        60.0   735.933333  44.730000  48.900000  45.53  19.79  19.000000   \n",
       "1        60.0   735.933333  44.790000  48.863333  45.56  19.79  19.000000   \n",
       "2        50.0   735.933333  44.933333  48.730000  45.50  19.79  18.926667   \n",
       "3        50.0   735.933333  45.000000  48.590000  45.40  19.79  18.890000   \n",
       "4        60.0   735.933333  45.000000  48.590000  45.40  19.79  18.890000   \n",
       "\n",
       "     T8     T_out  Tdewpoint  hour  \n",
       "0  18.2  6.600000        5.3    17  \n",
       "1  18.2  6.483333        5.2    17  \n",
       "2  18.2  6.366667        5.1    17  \n",
       "3  18.1  6.250000        5.0    17  \n",
       "4  18.1  6.133333        4.9    17  "
      ]
     },
     "execution_count": 14,
     "metadata": {},
     "output_type": "execute_result"
    }
   ],
   "source": [
    "df.head()"
   ]
  },
  {
   "cell_type": "code",
   "execution_count": 15,
   "metadata": {},
   "outputs": [
    {
     "data": {
      "text/html": [
       "<div>\n",
       "<style scoped>\n",
       "    .dataframe tbody tr th:only-of-type {\n",
       "        vertical-align: middle;\n",
       "    }\n",
       "\n",
       "    .dataframe tbody tr th {\n",
       "        vertical-align: top;\n",
       "    }\n",
       "\n",
       "    .dataframe thead th {\n",
       "        text-align: right;\n",
       "    }\n",
       "</style>\n",
       "<table border=\"1\" class=\"dataframe\">\n",
       "  <thead>\n",
       "    <tr style=\"text-align: right;\">\n",
       "      <th></th>\n",
       "      <th>Appliances</th>\n",
       "      <th>Press_mm_hg</th>\n",
       "      <th>Laundry_Humidity</th>\n",
       "      <th>Teenager_Room_Humidity</th>\n",
       "      <th>Parents_Room_Humidity</th>\n",
       "      <th>Laundry_Temperature</th>\n",
       "      <th>Office_Temperature</th>\n",
       "      <th>Teenager_Room_Temperature</th>\n",
       "      <th>Outside_Temperature</th>\n",
       "      <th>Dew_Point_Temperature</th>\n",
       "      <th>hour</th>\n",
       "    </tr>\n",
       "  </thead>\n",
       "  <tbody>\n",
       "    <tr>\n",
       "      <th>0</th>\n",
       "      <td>60.0</td>\n",
       "      <td>735.933333</td>\n",
       "      <td>44.730000</td>\n",
       "      <td>48.900000</td>\n",
       "      <td>45.53</td>\n",
       "      <td>19.79</td>\n",
       "      <td>19.000000</td>\n",
       "      <td>18.2</td>\n",
       "      <td>6.600000</td>\n",
       "      <td>5.3</td>\n",
       "      <td>17</td>\n",
       "    </tr>\n",
       "    <tr>\n",
       "      <th>1</th>\n",
       "      <td>60.0</td>\n",
       "      <td>735.933333</td>\n",
       "      <td>44.790000</td>\n",
       "      <td>48.863333</td>\n",
       "      <td>45.56</td>\n",
       "      <td>19.79</td>\n",
       "      <td>19.000000</td>\n",
       "      <td>18.2</td>\n",
       "      <td>6.483333</td>\n",
       "      <td>5.2</td>\n",
       "      <td>17</td>\n",
       "    </tr>\n",
       "    <tr>\n",
       "      <th>2</th>\n",
       "      <td>50.0</td>\n",
       "      <td>735.933333</td>\n",
       "      <td>44.933333</td>\n",
       "      <td>48.730000</td>\n",
       "      <td>45.50</td>\n",
       "      <td>19.79</td>\n",
       "      <td>18.926667</td>\n",
       "      <td>18.2</td>\n",
       "      <td>6.366667</td>\n",
       "      <td>5.1</td>\n",
       "      <td>17</td>\n",
       "    </tr>\n",
       "    <tr>\n",
       "      <th>3</th>\n",
       "      <td>50.0</td>\n",
       "      <td>735.933333</td>\n",
       "      <td>45.000000</td>\n",
       "      <td>48.590000</td>\n",
       "      <td>45.40</td>\n",
       "      <td>19.79</td>\n",
       "      <td>18.890000</td>\n",
       "      <td>18.1</td>\n",
       "      <td>6.250000</td>\n",
       "      <td>5.0</td>\n",
       "      <td>17</td>\n",
       "    </tr>\n",
       "    <tr>\n",
       "      <th>4</th>\n",
       "      <td>60.0</td>\n",
       "      <td>735.933333</td>\n",
       "      <td>45.000000</td>\n",
       "      <td>48.590000</td>\n",
       "      <td>45.40</td>\n",
       "      <td>19.79</td>\n",
       "      <td>18.890000</td>\n",
       "      <td>18.1</td>\n",
       "      <td>6.133333</td>\n",
       "      <td>4.9</td>\n",
       "      <td>17</td>\n",
       "    </tr>\n",
       "  </tbody>\n",
       "</table>\n",
       "</div>"
      ],
      "text/plain": [
       "   Appliances  Press_mm_hg  Laundry_Humidity  Teenager_Room_Humidity  \\\n",
       "0        60.0   735.933333         44.730000               48.900000   \n",
       "1        60.0   735.933333         44.790000               48.863333   \n",
       "2        50.0   735.933333         44.933333               48.730000   \n",
       "3        50.0   735.933333         45.000000               48.590000   \n",
       "4        60.0   735.933333         45.000000               48.590000   \n",
       "\n",
       "   Parents_Room_Humidity  Laundry_Temperature  Office_Temperature  \\\n",
       "0                  45.53                19.79           19.000000   \n",
       "1                  45.56                19.79           19.000000   \n",
       "2                  45.50                19.79           18.926667   \n",
       "3                  45.40                19.79           18.890000   \n",
       "4                  45.40                19.79           18.890000   \n",
       "\n",
       "   Teenager_Room_Temperature  Outside_Temperature  Dew_Point_Temperature  hour  \n",
       "0                       18.2             6.600000                    5.3    17  \n",
       "1                       18.2             6.483333                    5.2    17  \n",
       "2                       18.2             6.366667                    5.1    17  \n",
       "3                       18.1             6.250000                    5.0    17  \n",
       "4                       18.1             6.133333                    4.9    17  "
      ]
     },
     "execution_count": 15,
     "metadata": {},
     "output_type": "execute_result"
    }
   ],
   "source": [
    "df = df.rename(columns = {'RH_3': 'Laundry_Humidity', 'RH_8': 'Teenager_Room_Humidity', 'RH_9': 'Parents_Room_Humidity',\n",
    "                          'T3': 'Laundry_Temperature','T4':'Office_Temperature', 'T8': 'Teenager_Room_Temperature', 'T9': 'Parents_Room_Temperature',\n",
    "                          'T_out': 'Outside_Temperature', 'Tdewpoint': 'Dew_Point_Temperature'})\n",
    "df.head()  "
   ]
  },
  {
   "cell_type": "code",
   "execution_count": 16,
   "metadata": {},
   "outputs": [
    {
     "data": {
      "text/plain": [
       "(19735, 11)"
      ]
     },
     "execution_count": 16,
     "metadata": {},
     "output_type": "execute_result"
    }
   ],
   "source": [
    "df.shape    "
   ]
  },
  {
   "cell_type": "code",
   "execution_count": 17,
   "metadata": {},
   "outputs": [],
   "source": [
    "X = df.drop(['Appliances'], axis=1)\n",
    "y = df['Appliances']"
   ]
  },
  {
   "cell_type": "code",
   "execution_count": 18,
   "metadata": {},
   "outputs": [],
   "source": [
    "x_train, x_test, y_train, y_test = train_test_split(X, y, test_size=0.3, random_state=42)"
   ]
  },
  {
   "cell_type": "code",
   "execution_count": 56,
   "metadata": {},
   "outputs": [],
   "source": [
    "pipeline = Pipeline([\n",
    "    (\"scaler\", RobustScaler()),\n",
    "    (\"knn\", KNeighborsRegressor())\n",
    "])"
   ]
  },
  {
   "cell_type": "code",
   "execution_count": 57,
   "metadata": {},
   "outputs": [],
   "source": [
    "param_grid = {\n",
    "    \"knn__n_neighbors\": range(1, 30),\n",
    "    \"knn__p\": [1, 1.5, 2, 3],\n",
    "    \"knn__weights\": [\"uniform\", \"distance\"]\n",
    "}   "
   ]
  },
  {
   "cell_type": "code",
   "execution_count": 58,
   "metadata": {},
   "outputs": [],
   "source": [
    "grid_search = GridSearchCV(\n",
    "    estimator=pipeline,\n",
    "    param_grid=param_grid,\n",
    "    scoring=\"neg_mean_squared_error\",    \n",
    "    cv=5, \n",
    "    n_jobs=-1, \n",
    "    verbose=2   \n",
    ")"
   ]
  },
  {
   "cell_type": "code",
   "execution_count": 59,
   "metadata": {},
   "outputs": [
    {
     "name": "stdout",
     "output_type": "stream",
     "text": [
      "Fitting 5 folds for each of 232 candidates, totalling 1160 fits\n",
      "Best parameters: {'knn__n_neighbors': 3, 'knn__p': 1, 'knn__weights': 'distance'}\n",
      "Best CV score: -570.2350732064031\n"
     ]
    }
   ],
   "source": [
    "grid_search.fit(x_train, y_train)\n",
    "\n",
    "print(\"Best parameters:\", grid_search.best_params_)\n",
    "print(\"Best CV score:\", grid_search.best_score_)"
   ]
  },
  {
   "cell_type": "code",
   "execution_count": 60,
   "metadata": {},
   "outputs": [
    {
     "name": "stdout",
     "output_type": "stream",
     "text": [
      "Test Score: 0.7401195194839718\n"
     ]
    }
   ],
   "source": [
    "best_knn = grid_search.best_estimator_\n",
    "\n",
    "# Evaluate  the model \n",
    "test_score = best_knn.score(x_test, y_test) \n",
    "print(\"Test Score:\", test_score)"
   ]
  },
  {
   "cell_type": "code",
   "execution_count": 61,
   "metadata": {},
   "outputs": [],
   "source": [
    "prediction = best_knn.predict(x_test)"
   ]
  },
  {
   "cell_type": "code",
   "execution_count": 62,
   "metadata": {},
   "outputs": [],
   "source": [
    "# Evaluating the model\n",
    "mae = mean_absolute_error(y_test, prediction)\n",
    "mse = mean_squared_error(y_test, prediction)\n",
    "rmse = np.sqrt(mse)\n",
    "r2 = r2_score(y_test, prediction)"
   ]
  },
  {
   "cell_type": "code",
   "execution_count": 63,
   "metadata": {},
   "outputs": [
    {
     "name": "stdout",
     "output_type": "stream",
     "text": [
      "Mean Absolute Error (MAE): 13.89 Wh\n",
      "Mean Squared Error (MSE): 486.79 Wh²\n",
      "Root Mean Squared Error (RMSE): 22.06 Wh\n",
      "R² Score: 0.74\n"
     ]
    }
   ],
   "source": [
    "print(f\"Mean Absolute Error (MAE): {mae:.2f} Wh\")\n",
    "print(f\"Mean Squared Error (MSE): {mse:.2f} Wh²\")\n",
    "print(f\"Root Mean Squared Error (RMSE): {rmse:.2f} Wh\")\n",
    "print(f\"R² Score: {r2:.2f}\")"
   ]
  },
  {
   "cell_type": "code",
   "execution_count": 66,
   "metadata": {},
   "outputs": [
    {
     "data": {
      "image/png": "[encoded data removed]",
      "text/plain": [
       "<Figure size 1000x600 with 1 Axes>"
      ]
     },
     "metadata": {},
     "output_type": "display_data"
    }
   ],
   "source": [
    "# Visualizing the predictions vs the actual values  \n",
    "plt.figure(figsize=(10, 6))\n",
    "sns.histplot(y_test, kde=True, color='blue', label='Actual Values')\n",
    "sns.histplot(prediction, kde=True, color='red', label='Predicted Values')\n",
    "plt.title('Actual vs Predicted Values, KNN Regression')\n",
    "plt.legend()\n",
    "plt.show()  "
   ]
  },
  {
   "cell_type": "markdown",
   "metadata": {},
   "source": [
    "## <span style=\"color: #20C997;\">Personal Analysis</span>\n",
    "I trained both models on the same dataset, and the results were quite different. KNN fits the data more accurately than Linear Regression.<br> Linear Regression struggled with the peaks near 50 and 175,  KNN does better overall but still misses some peaks.\n",
    "To further improve KNN, <br>I can try a few things. First, I might focus on tuning the number of neighbors in a small range. I could also play with different distance metrics."
   ]
  }
 ],
 "metadata": {
  "kernelspec": {
   "display_name": ".venv",
   "language": "python",
   "name": "python3"
  },
  "language_info": {
   "codemirror_mode": {
    "name": "ipython",
    "version": 3
   },
   "file_extension": ".py",
   "mimetype": "text/x-python",
   "name": "python",
   "nbconvert_exporter": "python",
   "pygments_lexer": "ipython3",
   "version": "3.10.11"
  }
 },
 "nbformat": 4,
 "nbformat_minor": 2
}
