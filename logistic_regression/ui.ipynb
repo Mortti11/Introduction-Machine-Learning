{
 "cells": [
  {
   "cell_type": "code",
   "execution_count": 20,
   "metadata": {},
   "outputs": [],
   "source": [
    "import gradio as gr\n",
    "import joblib \n",
    "import pandas as pd \n",
    "import numpy as np  \n",
    "import matplotlib.pyplot as plt"
   ]
  },
  {
   "cell_type": "code",
   "execution_count": 21,
   "metadata": {},
   "outputs": [],
   "source": [
    "# loading and scaler\n",
    "scaler = joblib.load('scaler.pkl')\n",
    "model = joblib.load('logistic_regression_model.pkl')"
   ]
  },
  {
   "cell_type": "code",
   "execution_count": 22,
   "metadata": {},
   "outputs": [
    {
     "name": "stdout",
     "output_type": "stream",
     "text": [
      "* Running on local URL:  http://127.0.0.1:7867\n",
      "\n",
      "To create a public link, set `share=True` in `launch()`.\n"
     ]
    },
    {
     "data": {
      "text/html": [
       "<div><iframe src=\"http://127.0.0.1:7867/\" width=\"100%\" height=\"500\" allow=\"autoplay; camera; microphone; clipboard-read; clipboard-write;\" frameborder=\"0\" allowfullscreen></iframe></div>"
      ],
      "text/plain": [
       "<IPython.core.display.HTML object>"
      ]
     },
     "metadata": {},
     "output_type": "display_data"
    }
   ],
   "source": [
    "def predict_diabetes(pregnancies, glucose, blood_pressure, skin_thickness,\n",
    "                     insulin, bmi, dpf, age):\n",
    "    \n",
    "    data = {\n",
    "        \"Pregnancies\": [pregnancies],\n",
    "        \"Glucose\": [glucose],\n",
    "        \"BloodPressure\": [blood_pressure],\n",
    "        \"SkinThickness\": [skin_thickness],\n",
    "        \"Insulin\": [insulin],\n",
    "        \"BMI\": [bmi],\n",
    "        \"DiabetesPedigreeFunction\": [dpf],\n",
    "        \"Age\": [age]\n",
    "    }\n",
    "    \n",
    "    df = pd.DataFrame(data)\n",
    "    \n",
    "    df = scaler.transform(df)\n",
    "    \n",
    "    # Getting  probabilities & predicted class\n",
    "    probabilities = model.predict_proba(df)[0]  \n",
    "    class_idx = model.predict(df)[0]           \n",
    "    \n",
    "    labels = [\"Diabetes\", \"Not Diabetes\"]\n",
    "    return (f\"Probabilities\\n\" f\" Diabetes: {probabilities[0]:.2f}\\n\"f\" Not Diabetes: {probabilities[1]:.2f}\\n\\n\"f\"Final Prediction: {labels[class_idx]}\")\n",
    "\n",
    "with gr.Blocks(css=\"\"\"\n",
    "    .gr-button {background-color: #4CAF50; color: white; border-radius: 5px;}\n",
    "    .gr-slider {background-color: #f2f2f2;}\"\"\"\n",
    "    ,theme=\"soft\", fill_height=True) as demo:\n",
    "\n",
    "\n",
    "    gr.Markdown(\n",
    "    \"\"\"\n",
    "    # Diabetes Risk Prediction 🩺  \n",
    "    Welcome! Use this tool to predict your risk of diabetes based on health parameters.\n",
    "\n",
    "    ### How to Use:\n",
    "    - **Step 1**: Enter your details on the left panel.\n",
    "    - **Step 2**: Click the **Predict** button to see the results.\n",
    "    - **Step 3**: Use the **Clear** button to reset the form.\n",
    "    ---\n",
    "    \"\"\"\n",
    "    )\n",
    "    \n",
    "    with gr.Row():\n",
    "        # Left column: input fields\n",
    "        with gr.Column():\n",
    "            pregnancies = gr.Number(label=\"Pregnancies\", minimum=0, maximum=17)\n",
    "            glucose = gr.Number(label=\"Glucose\", minimum=0, maximum=199)\n",
    "            blood_pressure = gr.Number(label=\"BloodPressure (mm Hg)\", minimum=0, maximum=122)\n",
    "            skin_thickness = gr.Number(label=\"SkinThickness (mm)\", minimum=0, maximum=99)\n",
    "            insulin = gr.Number(label=\"Insulin\", minimum=0, maximum=864)\n",
    "            bmi = gr.Number(label=\"BMI\", minimum=0, maximum=90)\n",
    "            dpf = gr.Number(label=\"DiabetesPedigreeFunction\", minimum=0, maximum=2.42)\n",
    "            age = gr.Number(label=\"Age\", minimum=0, maximum=81)\n",
    "        \n",
    "            predict_button = gr.Button(\"Predict\")\n",
    "            clear_button = gr.Button(\"Clear\")\n",
    "        \n",
    "        # Right column: output\n",
    "        with gr.Column():\n",
    "            output = gr.Textbox(label=\"Prediction Result\", lines=8)\n",
    "            \n",
    "    \n",
    "    predict_button.click(\n",
    "        fn=predict_diabetes,\n",
    "        inputs=[pregnancies, glucose, blood_pressure, skin_thickness,\n",
    "                insulin, bmi, dpf, age],\n",
    "        outputs=output\n",
    "    ),\n",
    "    clear_button.click(\n",
    "         fn=lambda: [None, None, None, None, None, None, None, None],\n",
    "         inputs=[],\n",
    "         outputs=[pregnancies, glucose, blood_pressure, skin_thickness,\n",
    "                insulin, bmi, dpf, age],\n",
    "        )\n",
    "\n",
    "if __name__ == \"__main__\":\n",
    "    demo.launch()"
   ]
  },
  {
   "cell_type": "code",
   "execution_count": null,
   "metadata": {},
   "outputs": [],
   "source": []
  }
 ],
 "metadata": {
  "kernelspec": {
   "display_name": ".venv",
   "language": "python",
   "name": "python3"
  },
  "language_info": {
   "codemirror_mode": {
    "name": "ipython",
    "version": 3
   },
   "file_extension": ".py",
   "mimetype": "text/x-python",
   "name": "python",
   "nbconvert_exporter": "python",
   "pygments_lexer": "ipython3",
   "version": "3.10.11"
  }
 },
 "nbformat": 4,
 "nbformat_minor": 2
}
